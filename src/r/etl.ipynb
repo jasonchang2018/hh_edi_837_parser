{
 "cells": [
  {
   "cell_type": "code",
   "execution_count": null,
   "id": "8e263173",
   "metadata": {
    "vscode": {
     "languageId": "r"
    }
   },
   "outputs": [],
   "source": [
    "library(hh.analytics)\n",
    "library(hh.snowflake)\n",
    "\n",
    "load.packages()"
   ]
  },
  {
   "cell_type": "code",
   "execution_count": null,
   "id": "2453be11",
   "metadata": {
    "vscode": {
     "languageId": "r"
    }
   },
   "outputs": [],
   "source": [
    "start = querySnowflake(\"select max(response_id) as MAX_RESPONSE_ID from edwprodhh.edi_837_parser.response\") %>% pull(max_response_id)"
   ]
  },
  {
   "cell_type": "code",
   "execution_count": null,
   "id": "1d3fde34",
   "metadata": {
    "vscode": {
     "languageId": "r"
    }
   },
   "outputs": [],
   "source": [
    "list.files(\n",
    "    \"\\\\\\\\hh-fileserver01\\\\TempUL2\\\\IU_Health_Complex\\\\837_FILES_IN\\\\2025\",\n",
    "    full.names = TRUE\n",
    ") %>% \n",
    "    data.frame(\n",
    "        file_path = .\n",
    "    ) %>% \n",
    "    filter(\n",
    "        !file_path %>% str_detect(\"xl212927fw_250426_i5\") &\n",
    "        file_path %>% str_detect(\"837$\")\n",
    "    ) %>% \n",
    "    mutate(\n",
    "        response_id = row_number() + start,\n",
    "    ) %>% \n",
    "    {\n",
    "        df_ = .\n",
    "\n",
    "        for (i in 1:nrow(df_)) {\n",
    "\n",
    "            df_ %>% \n",
    "                slice(i) %>% \n",
    "                transmute(\n",
    "                    response_id,\n",
    "                    response_body = file_path %>% map(~ .x %>% readLines() %>% paste0(collapse = \"\\\\n\")) %>% as.character(),\n",
    "                    file_name = file_path %>% str_extract(\"[^/]*$\")\n",
    "                ) %>%\n",
    "                insertValuesSnowflakeBatch(\n",
    "                    \"edwprodhh.edi_837_parser.response\"\n",
    "                )\n",
    "\n",
    "        }\n",
    "\n",
    "    }"
   ]
  }
 ],
 "metadata": {
  "kernelspec": {
   "display_name": "R",
   "language": "R",
   "name": "ir"
  },
  "language_info": {
   "codemirror_mode": "r",
   "file_extension": ".r",
   "mimetype": "text/x-r-source",
   "name": "R",
   "pygments_lexer": "r",
   "version": "4.1.2"
  }
 },
 "nbformat": 4,
 "nbformat_minor": 5
}
